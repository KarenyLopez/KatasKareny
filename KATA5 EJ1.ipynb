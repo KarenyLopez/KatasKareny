{
 "cells": [
  {
   "cell_type": "code",
   "execution_count": 1,
   "metadata": {},
   "outputs": [],
   "source": [
    "# Crea variales\n",
    "tierra = 149600000\n",
    "saturno = 1433500000\n"
   ]
  },
  {
   "cell_type": "code",
   "execution_count": 2,
   "metadata": {},
   "outputs": [
    {
     "name": "stdout",
     "output_type": "stream",
     "text": [
      "1283900000\n"
     ]
    }
   ],
   "source": [
    "# Distancia entre planetas\n",
    "distancia_km = saturno - tierra\n",
    "print(distancia_km)\n"
   ]
  }
 ],
 "metadata": {
  "interpreter": {
   "hash": "48659dd5b1aa74ba9f8f71398748e98b14b4b175202da463d8a446f93c4e3bd1"
  },
  "kernelspec": {
   "display_name": "Python 3.10.2 64-bit",
   "language": "python",
   "name": "python3"
  },
  "language_info": {
   "codemirror_mode": {
    "name": "ipython",
    "version": 3
   },
   "file_extension": ".py",
   "mimetype": "text/x-python",
   "name": "python",
   "nbconvert_exporter": "python",
   "pygments_lexer": "ipython3",
   "version": "3.10.2"
  },
  "orig_nbformat": 4
 },
 "nbformat": 4,
 "nbformat_minor": 2
}
