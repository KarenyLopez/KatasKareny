{
 "cells": [
  {
   "cell_type": "code",
   "execution_count": 1,
   "metadata": {},
   "outputs": [],
   "source": [
    "# Funcion para leer 3 tanques de combustible y muestre el promedio\n",
    "def generate_report(main_tank, external_tank, hydrogen_tank):\n",
    "    total_average = (main_tank + external_tank + hydrogen_tank)\n",
    "    return f\"\"\"Fuel Report:\n",
    "    Total Average: {total_average}%\n",
    "    Main Tank: {main_tank}%\n",
    "    External Tank: {external_tank}%\n",
    "    Hydrogen Tank: {hydrogen_tank}%\n",
    "    \"\"\"\n",
    "    \n"
   ]
  },
  {
   "cell_type": "code",
   "execution_count": 2,
   "metadata": {},
   "outputs": [
    {
     "name": "stdout",
     "output_type": "stream",
     "text": [
      "Fuel Report:\n",
      "    Total Average: 235%\n",
      "    Main Tank: 80%\n",
      "    External Tank: 70%\n",
      "    Hydrogen Tank: 85%\n",
      "    \n"
     ]
    }
   ],
   "source": [
    "# Llamamos a la funcion que genera el reporte print(funcion(tanque1, tanque2, tanque3))\n",
    "print(generate_report(80, 70, 85))\n"
   ]
  },
  {
   "cell_type": "code",
   "execution_count": 3,
   "metadata": {},
   "outputs": [
    {
     "data": {
      "text/plain": [
       "82.0"
      ]
     },
     "execution_count": 3,
     "metadata": {},
     "output_type": "execute_result"
    }
   ],
   "source": [
    "# Funcion promedio\n",
    "def average(values):\n",
    "    total = sum(values)\n",
    "    number_of_items = len(values)\n",
    "    return total / number_of_items\n",
    "\n",
    "# Test the averaging function with a list of integers:\n",
    "average({80, 85, 81})\n"
   ]
  },
  {
   "cell_type": "code",
   "execution_count": 4,
   "metadata": {},
   "outputs": [],
   "source": [
    "# Actualiza la funcion\n",
    "def generate_report(main_tank, external_tank, hydrogen_tank):\n",
    "    return f\"\"\"(Fuel Report:\n",
    "    Total average: {average([main_tank, external_tank, hydrogen_tank])}%\n",
    "    Main Tank: {main_tank}%\n",
    "    External Tank: {external_tank}%\n",
    "    Hydrogen Tank: {hydrogen_tank}%\n",
    "    \"\"\""
   ]
  },
  {
   "cell_type": "code",
   "execution_count": 5,
   "metadata": {},
   "outputs": [
    {
     "name": "stdout",
     "output_type": "stream",
     "text": [
      "(Fuel Report:\n",
      "    Total average: 78.0%\n",
      "    Main Tank: 88%\n",
      "    External Tank: 76%\n",
      "    Hydrogen Tank: 70%\n",
      "    \n"
     ]
    }
   ],
   "source": [
    "# Call the update function again with different values\n",
    "print(generate_report(88, 76, 70))\n"
   ]
  },
  {
   "cell_type": "code",
   "execution_count": 6,
   "metadata": {},
   "outputs": [
    {
     "name": "stdout",
     "output_type": "stream",
     "text": [
      "\n",
      "    Mission to moon\n",
      "    Total travel time: 65 minutes\n",
      "    Total fuel left: 50000 gallons\n",
      "    \n"
     ]
    }
   ],
   "source": [
    "# Funcion con un informe preciso de la musion, Considera hora de prelanzamiento, tiempo de vuelo, destino, tanque externo y tanque interno.\n",
    "def mission_report(pre_launch_time, flight_time, destination, external_tank, main_tank):\n",
    "    return f\"\"\"\n",
    "    Mission to {destination}\n",
    "    Total travel time: {pre_launch_time + flight_time} minutes\n",
    "    Total fuel left: {external_tank + main_tank} gallons\n",
    "    \"\"\"\n",
    "\n",
    "print(mission_report(14, 51, \"moon\", 20000, 30000))\n"
   ]
  },
  {
   "cell_type": "code",
   "execution_count": 7,
   "metadata": {},
   "outputs": [
    {
     "name": "stdout",
     "output_type": "stream",
     "text": [
      "\n",
      "    Mission to moon\n",
      "    Total travel time: 76 minutes\n",
      "    Total fuel left: 50000\n",
      "    \n"
     ]
    }
   ],
   "source": [
    "# Escribe tu nueva funcion de reporte considerando el anterior\n",
    "def mission_report(destination, *minutes, **fuel_reservoirs):\n",
    "    return f\"\"\"\n",
    "    Mission to {destination}\n",
    "    Total travel time: {sum(minutes)} minutes\n",
    "    Total fuel left: {sum(fuel_reservoirs.values())}\n",
    "    \"\"\"\n",
    "\n",
    "print(mission_report(\"moon\", 10, 15, 51, main=30000, external=20000))\n"
   ]
  },
  {
   "cell_type": "code",
   "execution_count": 8,
   "metadata": {},
   "outputs": [
    {
     "name": "stdout",
     "output_type": "stream",
     "text": [
      "\n",
      "    Mission to Moon\n",
      "    Total travel time: 74 minutes\n",
      "    Total fuel left: 50000\n",
      "    main tank --> 30000 gallons left\n",
      "external tank --> 20000 gallons left\n",
      "\n"
     ]
    }
   ],
   "source": [
    "# Escribe tu nueva funcion\n",
    "def mission_report(destination, *minutes, **fuel_reservoirs):\n",
    "    main_report= f\"\"\"\n",
    "    Mission to {destination}\n",
    "    Total travel time: {sum(minutes)} minutes\n",
    "    Total fuel left: {sum(fuel_reservoirs.values())}\n",
    "    \"\"\"\n",
    "    for tank_name, gallons in fuel_reservoirs.items():\n",
    "        main_report += f\"{tank_name} tank --> {gallons} gallons left\\n\"\n",
    "    return main_report\n",
    "print(mission_report(\"Moon\", 8, 11, 55, main=30000, external=20000))\n"
   ]
  }
 ],
 "metadata": {
  "interpreter": {
   "hash": "48659dd5b1aa74ba9f8f71398748e98b14b4b175202da463d8a446f93c4e3bd1"
  },
  "kernelspec": {
   "display_name": "Python 3.10.2 64-bit",
   "language": "python",
   "name": "python3"
  },
  "language_info": {
   "codemirror_mode": {
    "name": "ipython",
    "version": 3
   },
   "file_extension": ".py",
   "mimetype": "text/x-python",
   "name": "python",
   "nbconvert_exporter": "python",
   "pygments_lexer": "ipython3",
   "version": "3.10.2"
  },
  "orig_nbformat": 4
 },
 "nbformat": 4,
 "nbformat_minor": 2
}
