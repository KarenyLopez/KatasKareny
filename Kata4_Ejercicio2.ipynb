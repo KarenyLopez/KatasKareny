{
 "cells": [
  {
   "cell_type": "code",
   "execution_count": 5,
   "metadata": {},
   "outputs": [],
   "source": [
    "# Datos para trabajar\n",
    "planeta = \"Saturno\"\n",
    "gravedad = .001044\n",
    "nombre = \"Gamora\"\n",
    "\n",
    "\n",
    "\n",
    "\n",
    "\n"
   ]
  },
  {
   "cell_type": "code",
   "execution_count": 6,
   "metadata": {},
   "outputs": [
    {
     "name": "stdout",
     "output_type": "stream",
     "text": [
      "[title]\n"
     ]
    }
   ],
   "source": [
    "# Titulo\n",
    "title = f\"datos de la gravedad sobre Gamora\"\n",
    "planeta = \"Saturno\"\n",
    "planeta = planeta.title()\n",
    "gravedad = .001044 * 1000\n",
    "#body = f\"-------------------------\\nplaneta nombre\n",
    "nombre = \"Gamora\"\n",
    "print(f\"[title]\")\n",
    "\n"
   ]
  }
 ],
 "metadata": {
  "interpreter": {
   "hash": "48659dd5b1aa74ba9f8f71398748e98b14b4b175202da463d8a446f93c4e3bd1"
  },
  "kernelspec": {
   "display_name": "Python 3.10.2 64-bit",
   "language": "python",
   "name": "python3"
  },
  "language_info": {
   "codemirror_mode": {
    "name": "ipython",
    "version": 3
   },
   "file_extension": ".py",
   "mimetype": "text/x-python",
   "name": "python",
   "nbconvert_exporter": "python",
   "pygments_lexer": "ipython3",
   "version": "3.10.2"
  },
  "orig_nbformat": 4
 },
 "nbformat": 4,
 "nbformat_minor": 2
}
