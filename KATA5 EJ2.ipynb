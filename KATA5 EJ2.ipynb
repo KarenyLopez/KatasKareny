{
 "cells": [
  {
   "cell_type": "code",
   "execution_count": 14,
   "metadata": {},
   "outputs": [],
   "source": [
    "# almacena entradas del usuario\n",
    "tierra = input(\"149600000\")\n",
    "saturno = input(\"1433500000\")\n"
   ]
  },
  {
   "cell_type": "code",
   "execution_count": 15,
   "metadata": {},
   "outputs": [
    {
     "ename": "TypeError",
     "evalue": "unsupported operand type(s) for -: 'str' and 'str'",
     "output_type": "error",
     "traceback": [
      "\u001b[1;31m---------------------------------------------------------------------------\u001b[0m",
      "\u001b[1;31mTypeError\u001b[0m                                 Traceback (most recent call last)",
      "\u001b[1;32mc:\\Users\\Karo y Jesus\\OneDrive\\Documents\\Python\\ENERO\\Modulo 5\\KATA5 EJ2.ipynb Cell 2'\u001b[0m in \u001b[0;36m<module>\u001b[1;34m\u001b[0m\n\u001b[0;32m      <a href='vscode-notebook-cell:/c%3A/Users/Karo%20y%20Jesus/OneDrive/Documents/Python/ENERO/Modulo%205/KATA5%20EJ2.ipynb#ch0000002?line=0'>1</a>\u001b[0m \u001b[39m# realiza calculo y determina el valor absoluto\u001b[39;00m\n\u001b[1;32m----> <a href='vscode-notebook-cell:/c%3A/Users/Karo%20y%20Jesus/OneDrive/Documents/Python/ENERO/Modulo%205/KATA5%20EJ2.ipynb#ch0000002?line=1'>2</a>\u001b[0m distance_km \u001b[39m=\u001b[39m saturno \u001b[39m-\u001b[39;49m tierra\n\u001b[0;32m      <a href='vscode-notebook-cell:/c%3A/Users/Karo%20y%20Jesus/OneDrive/Documents/Python/ENERO/Modulo%205/KATA5%20EJ2.ipynb#ch0000002?line=2'>3</a>\u001b[0m \u001b[39mprint\u001b[39m(distance_km)\n",
      "\u001b[1;31mTypeError\u001b[0m: unsupported operand type(s) for -: 'str' and 'str'"
     ]
    }
   ],
   "source": [
    "# realiza calculo y determina el valor absoluto\n",
    "distance_km = saturno - tierra\n",
    "print(distance_km)"
   ]
  },
  {
   "cell_type": "code",
   "execution_count": null,
   "metadata": {},
   "outputs": [],
   "source": [
    "# convertir km a millas\n",
    "distance_mi = distance_km * 0.621\n",
    "print(abs(distance_mi))"
   ]
  }
 ],
 "metadata": {
  "interpreter": {
   "hash": "48659dd5b1aa74ba9f8f71398748e98b14b4b175202da463d8a446f93c4e3bd1"
  },
  "kernelspec": {
   "display_name": "Python 3.10.2 64-bit",
   "language": "python",
   "name": "python3"
  },
  "language_info": {
   "codemirror_mode": {
    "name": "ipython",
    "version": 3
   },
   "file_extension": ".py",
   "mimetype": "text/x-python",
   "name": "python",
   "nbconvert_exporter": "python",
   "pygments_lexer": "ipython3",
   "version": "3.10.2"
  },
  "orig_nbformat": 4
 },
 "nbformat": 4,
 "nbformat_minor": 2
}
