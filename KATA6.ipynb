{
 "cells": [
  {
   "cell_type": "code",
   "execution_count": 1,
   "metadata": {},
   "outputs": [
    {
     "name": "stdout",
     "output_type": "stream",
     "text": [
      "there are 9 planetas\n"
     ]
    }
   ],
   "source": [
    "# Lista de planetas\n",
    "planetas = ['Mercurio', 'Venus', 'Tierra', 'Marte', 'Jupiter', 'Saturno', 'Urano', 'Neptuno', 'Pluton']\n",
    "print('there are', len(planetas), 'planetas')\n",
    "\n",
    "\n",
    "\n"
   ]
  },
  {
   "cell_type": "code",
   "execution_count": 2,
   "metadata": {},
   "outputs": [
    {
     "name": "stdout",
     "output_type": "stream",
     "text": [
      "Pluton es el ultimo planeta\n"
     ]
    }
   ],
   "source": [
    "# Solicitamos el nombre de un planeta *Pista\n",
    "planetas.append('Pluton')\n",
    "print(planetas[-1], 'es el ultimo planeta')\n"
   ]
  }
 ],
 "metadata": {
  "interpreter": {
   "hash": "48659dd5b1aa74ba9f8f71398748e98b14b4b175202da463d8a446f93c4e3bd1"
  },
  "kernelspec": {
   "display_name": "Python 3.10.2 64-bit",
   "language": "python",
   "name": "python3"
  },
  "language_info": {
   "codemirror_mode": {
    "name": "ipython",
    "version": 3
   },
   "file_extension": ".py",
   "mimetype": "text/x-python",
   "name": "python",
   "nbconvert_exporter": "python",
   "pygments_lexer": "ipython3",
   "version": "3.10.2"
  },
  "orig_nbformat": 4
 },
 "nbformat": 4,
 "nbformat_minor": 2
}
